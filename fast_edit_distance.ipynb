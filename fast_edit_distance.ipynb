{
  "nbformat": 4,
  "nbformat_minor": 0,
  "metadata": {
    "colab": {
      "provenance": [],
      "include_colab_link": true
    },
    "kernelspec": {
      "name": "python3",
      "display_name": "Python 3"
    },
    "language_info": {
      "name": "python"
    }
  },
  "cells": [
    {
      "cell_type": "markdown",
      "metadata": {
        "id": "view-in-github",
        "colab_type": "text"
      },
      "source": [
        "<a href=\"https://colab.research.google.com/github/viktoriapatouna/Thesis-work-2025/blob/main/fast_edit_distance.ipynb\" target=\"_parent\"><img src=\"https://colab.research.google.com/assets/colab-badge.svg\" alt=\"Open In Colab\"/></a>"
      ]
    },
    {
      "cell_type": "code",
      "execution_count": null,
      "metadata": {
        "id": "rq1sht6e3UDm"
      },
      "outputs": [],
      "source": [
        "!touch human1.fasta arabidopsis1.fasta"
      ]
    },
    {
      "cell_type": "markdown",
      "source": [
        "ARABIDOPSIS\n",
        "\n",
        "\n",
        "\n",
        ">gene1\n",
        "AYYYYHHHGG\n",
        ">gene1.1\n",
        "AYYYYHHHGG\n",
        ">prot2\n",
        "GGHYPLSKYYY\n",
        ">prot3\n",
        "LLLYY\n",
        ">prot3.1\n",
        "LLLYK\n",
        "YKKK\n",
        ">gene67\n",
        "PPLLYYH\n",
        ">gene67.1\n",
        "PPLLYYH"
      ],
      "metadata": {
        "id": "8pm72Z0x3gCc"
      }
    },
    {
      "cell_type": "markdown",
      "source": [
        "HUMAN\n",
        "\n",
        "\n",
        "\n",
        ">gene1\n",
        "AYYYYHHHGG\n",
        ">prot2\n",
        "GGHYPLSKYYY\n",
        ">prot3\n",
        "LLLYY\n",
        "YKKK\n",
        ">gene67\n",
        "PPLLYYH"
      ],
      "metadata": {
        "id": "hPIg9i9tBZVO"
      }
    },
    {
      "cell_type": "code",
      "source": [
        "pip install rapidfuzz"
      ],
      "metadata": {
        "id": "RGi00a1yBfLW",
        "colab": {
          "base_uri": "https://localhost:8080/"
        },
        "outputId": "53985b2c-d331-4fe4-d4c7-b19f6fccc756"
      },
      "execution_count": null,
      "outputs": [
        {
          "output_type": "stream",
          "name": "stdout",
          "text": [
            "Collecting rapidfuzz\n",
            "  Downloading rapidfuzz-3.11.0-cp311-cp311-manylinux_2_17_x86_64.manylinux2014_x86_64.whl.metadata (11 kB)\n",
            "Downloading rapidfuzz-3.11.0-cp311-cp311-manylinux_2_17_x86_64.manylinux2014_x86_64.whl (3.1 MB)\n",
            "\u001b[?25l   \u001b[90m━━━━━━━━━━━━━━━━━━━━━━━━━━━━━━━━━━━━━━━━\u001b[0m \u001b[32m0.0/3.1 MB\u001b[0m \u001b[31m?\u001b[0m eta \u001b[36m-:--:--\u001b[0m\r\u001b[2K   \u001b[91m━━━━━━\u001b[0m\u001b[90m╺\u001b[0m\u001b[90m━━━━━━━━━━━━━━━━━━━━━━━━━━━━━━━━━\u001b[0m \u001b[32m0.5/3.1 MB\u001b[0m \u001b[31m14.3 MB/s\u001b[0m eta \u001b[36m0:00:01\u001b[0m\r\u001b[2K   \u001b[91m━━━━━━━━━━━━━━━━━━━━━━━━━━━━━━━━━━━━━━━\u001b[0m\u001b[91m╸\u001b[0m \u001b[32m3.1/3.1 MB\u001b[0m \u001b[31m46.4 MB/s\u001b[0m eta \u001b[36m0:00:01\u001b[0m\r\u001b[2K   \u001b[90m━━━━━━━━━━━━━━━━━━━━━━━━━━━━━━━━━━━━━━━━\u001b[0m \u001b[32m3.1/3.1 MB\u001b[0m \u001b[31m31.6 MB/s\u001b[0m eta \u001b[36m0:00:00\u001b[0m\n",
            "\u001b[?25hInstalling collected packages: rapidfuzz\n",
            "Successfully installed rapidfuzz-3.11.0\n"
          ]
        }
      ]
    },
    {
      "cell_type": "code",
      "source": [
        "###example\n",
        "\n",
        "\n",
        "import numpy as np\n",
        "from rapidfuzz.distance import Levenshtein\n",
        "\n",
        "def parse_fasta(species_proteins_list):\n",
        "    sequences = {}\n",
        "    with open(species_proteins_list, \"r\") as file:\n",
        "        entry_name = None\n",
        "        sequence = []\n",
        "        for line in file:\n",
        "            line = line.strip()\n",
        "            if line.startswith(\">\"):\n",
        "                if entry_name:\n",
        "                    sequences[entry_name] = \"\".join(sequence)\n",
        "                entry_name = line[1:]\n",
        "                sequence = []\n",
        "            else:\n",
        "                sequence.append(line)\n",
        "        if entry_name:\n",
        "            sequences[entry_name] = \"\".join(sequence)\n",
        "    return sequences\n",
        "\n",
        "def fast_edit_distance(q, t, lowercase=True):\n",
        "    \"\"\"Calculate fast edit distance between two strings using RapidFuzz.\"\"\"\n",
        "    if not isinstance(q, str):\n",
        "        raise TypeError(\"First entry is not a string!\")\n",
        "    if not isinstance(t, str):\n",
        "        raise TypeError(\"Second entry is not a string!\")\n",
        "\n",
        "    if lowercase:\n",
        "        q = q.lower()\n",
        "        t = t.lower()\n",
        "\n",
        "    return Levenshtein.distance(q, t)\n",
        "\n",
        "def find_identical_sequences(species_proteins_list):\n",
        "    \"\"\"Find identical sequences across multiple FASTA files.\"\"\"\n",
        "    parsed_data = {file: parse_fasta(file) for file in species_proteins_list}\n",
        "\n",
        "    # Compare sequences between all pairs of species\n",
        "    for i in range(len(species_proteins_list)):\n",
        "        query_species = species_proteins_list[i]\n",
        "        query_proteins = parsed_data[query_species]\n",
        "        for j in range(i + 1, len(species_proteins_list)):\n",
        "            target_species = species_proteins_list[j]\n",
        "            target_proteins = parsed_data[target_species]\n",
        "\n",
        "            qnames = list(query_proteins.keys())\n",
        "            tnames = list(target_proteins.keys())\n",
        "\n",
        "            print(f\"Comparing {query_species} with {target_species}:\")\n",
        "            compared_pairs = set()\n",
        "            for q_idx in range(len(qnames)):\n",
        "                for t_idx in range(len(tnames)):\n",
        "                    pair = tuple(sorted((qnames[q_idx], tnames[t_idx])))\n",
        "                    if pair in compared_pairs:\n",
        "                        continue\n",
        "                    compared_pairs.add(pair)\n",
        "\n",
        "                    qname = qnames[q_idx]\n",
        "                    tname = tnames[t_idx]\n",
        "                    distance = fast_edit_distance(query_proteins[qname], target_proteins[tname])\n",
        "                    print(f\"  {qname} vs {tname}: Distance = {distance}\")\n",
        "\n",
        "species_proteins_list = [\"human1.fasta\" ,  \"arabidopsis1.fasta\"]\n",
        "find_identical_sequences(species_proteins_list)"
      ],
      "metadata": {
        "id": "TLbil_RTB4BU",
        "colab": {
          "base_uri": "https://localhost:8080/"
        },
        "outputId": "1064c14c-9a82-4b42-c5b5-1baf915f97cf"
      },
      "execution_count": null,
      "outputs": [
        {
          "output_type": "stream",
          "name": "stdout",
          "text": [
            "Comparing human1.fasta with arabidopsis1.fasta:\n",
            "  gene1 vs gene1: Distance = 0\n",
            "  gene1 vs gene1.1: Distance = 0\n",
            "  gene1 vs prot2: Distance = 10\n",
            "  gene1 vs prot3: Distance = 8\n",
            "  gene1 vs prot3.1: Distance = 9\n",
            "  gene1 vs gene67: Distance = 8\n",
            "  gene1 vs gene67.1: Distance = 8\n",
            "  prot2 vs gene1.1: Distance = 10\n",
            "  prot2 vs prot2: Distance = 0\n",
            "  prot2 vs prot3: Distance = 8\n",
            "  prot2 vs prot3.1: Distance = 9\n",
            "  prot2 vs gene67: Distance = 7\n",
            "  prot2 vs gene67.1: Distance = 7\n",
            "  prot3 vs gene1.1: Distance = 8\n",
            "  prot3 vs prot3: Distance = 4\n",
            "  prot3 vs prot3.1: Distance = 1\n",
            "  prot3 vs gene67: Distance = 6\n",
            "  prot3 vs gene67.1: Distance = 6\n",
            "  gene67 vs gene1.1: Distance = 8\n",
            "  gene67 vs prot3.1: Distance = 6\n",
            "  gene67 vs gene67: Distance = 0\n",
            "  gene67 vs gene67.1: Distance = 0\n"
          ]
        }
      ]
    },
    {
      "cell_type": "code",
      "source": [
        "import numpy as np\n",
        "from rapidfuzz.distance import Levenshtein\n",
        "\n",
        "def parse_fasta(species_proteins_list):\n",
        "    sequences = {}\n",
        "    with open(species_proteins_list, \"r\") as file:\n",
        "        entry_name = None\n",
        "        sequence = []\n",
        "        for line in file:\n",
        "            line = line.strip()\n",
        "            if line.startswith(\">\"):\n",
        "                if entry_name:\n",
        "                    sequences[entry_name] = \"\".join(sequence)\n",
        "                entry_name = line[1:]\n",
        "                sequence = []\n",
        "            else:\n",
        "                sequence.append(line)\n",
        "        if entry_name:\n",
        "            sequences[entry_name] = \"\".join(sequence)\n",
        "    return sequences\n",
        "\n",
        "def fast_edit_distance(q, t, lowercase=True):\n",
        "    \"\"\"Calculate fast edit distance between two strings using RapidFuzz.\"\"\"\n",
        "    if not isinstance(q, str):\n",
        "        raise TypeError(\"First entry is not a string!\")\n",
        "    if not isinstance(t, str):\n",
        "        raise TypeError(\"Second entry is not a string!\")\n",
        "\n",
        "    if lowercase:\n",
        "        q = q.lower()\n",
        "        t = t.lower()\n",
        "\n",
        "    return Levenshtein.distance(q, t)\n",
        "\n",
        "def find_identical_sequences(species_proteins_list):\n",
        "    \"\"\"Find identical sequences across multiple FASTA files.\"\"\"\n",
        "    parsed_data = {file: parse_fasta(file) for file in species_proteins_list}\n",
        "\n",
        "    # Compare sequences between all pairs of species\n",
        "    for i in range(len(species_proteins_list)):\n",
        "        query_species = species_proteins_list[i]\n",
        "        query_proteins = parsed_data[query_species]\n",
        "        for j in range(i + 1, len(species_proteins_list)):\n",
        "            target_species = species_proteins_list[j]\n",
        "            target_proteins = parsed_data[target_species]\n",
        "\n",
        "            qnames = list(query_proteins.keys())\n",
        "            tnames = list(target_proteins.keys())\n",
        "\n",
        "            print(f\"Comparing {query_species} with {target_species}:\")\n",
        "            compared_pairs = set()\n",
        "            for q_idx in range(len(qnames)):\n",
        "                for t_idx in range(len(tnames)):\n",
        "                    pair = tuple(sorted((qnames[q_idx], tnames[t_idx])))\n",
        "                    if pair in compared_pairs:\n",
        "                        continue\n",
        "                    compared_pairs.add(pair)\n",
        "\n",
        "                    qname = qnames[q_idx]\n",
        "                    tname = tnames[t_idx]\n",
        "                    distance = fast_edit_distance(query_proteins[qname], target_proteins[tname])\n",
        "                    print(f\"  {qname} vs {tname}: Distance = {distance}\")\n",
        "\n",
        "species_proteins_list = [\"Human\", \"arabidopsis.fasta\", \"c.elegans.fasta\", \"drosophila.fasta\", \"mouse.fasta\", \"s.cerevisiae.fasta\"]\n",
        "find_identical_sequences(species_proteins_list)"
      ],
      "metadata": {
        "id": "NkYwRqT9Bnca"
      },
      "execution_count": null,
      "outputs": []
    }
  ]
}